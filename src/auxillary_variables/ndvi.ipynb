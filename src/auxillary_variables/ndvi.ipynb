{
 "cells": [
  {
   "cell_type": "code",
   "execution_count": null,
   "id": "f208117c",
   "metadata": {},
   "outputs": [],
   "source": [
    "%pip install rioxarray\n",
    "%pip install xarray\n",
    "%pip install earthengine-api rasterio\n",
    "%pip install geopandas\n",
    "%pip install gdal==$(gdal-config --version) geemap\n",
    "%pip install setuptools"
   ]
  },
  {
   "cell_type": "code",
   "execution_count": null,
   "id": "913756e0",
   "metadata": {},
   "outputs": [],
   "source": [
    "import ee\n",
    "ee.Authenticate()\n",
    "ee.Initialize(project='btech-project-443813')"
   ]
  },
  {
   "cell_type": "markdown",
   "id": "0e1d8016",
   "metadata": {},
   "source": [
    "### Download NDVI Monthly"
   ]
  },
  {
   "cell_type": "code",
   "execution_count": null,
   "id": "152b3064",
   "metadata": {},
   "outputs": [],
   "source": [
    "import ee\n",
    "import geemap\n",
    "import os\n",
    "from datetime import datetime, timedelta\n",
    "\n",
    "ee.Initialize()\n",
    "\n",
    "bounds = {\n",
    "    'min_lon': 76.5,  # Western boundary of Delhi\n",
    "    'max_lon': 77.5,  # Eastern boundary of Delhi\n",
    "    'min_lat': 28.3,  # Southern boundary of Delhi\n",
    "    'max_lat': 28.9   # Northern boundary of Delhi\n",
    "}\n",
    "\n",
    "start_date = datetime(2000, 1, 1)\n",
    "end_date = datetime(2023, 12, 31)\n",
    "\n",
    "output_dir = r\"/home/stormej/dev/rainscale/data/ndvi/ndvi_monthly_temp\"\n",
    "os.makedirs(output_dir, exist_ok=True)\n",
    "\n",
    "def get_monthly_ndvi(year,month):\n",
    "    start = datetime(year, month, 1)\n",
    "    end = (start + timedelta(days=32)).replace(day=1)\n",
    "    \n",
    "    ds = ee.ImageCollection('MODIS/006/MOD09GA').filterDate(start.strftime('%Y-%m-%d'), end.strftime('%Y-%m-%d'))\n",
    "    \n",
    "    def add_ndvi(image):\n",
    "        ndvi = image.normalizedDifference(['sur_refl_b02', 'sur_refl_b01']).rename('NDVI')\n",
    "        return image.addBands(ndvi)\n",
    "    \n",
    "    # Create a geometry from bounds\n",
    "    geometry = ee.Geometry.Rectangle([bounds['min_lon'], bounds['min_lat'], bounds['max_lon'], bounds['max_lat']])\n",
    "    \n",
    "    monthly_ndvi = ds.map(add_ndvi).select('NDVI').mean().clip(geometry)\n",
    "    return monthly_ndvi\n",
    "\n",
    "def download_monthly_ndvi(year,month):\n",
    "    date_str = datetime(year, month, 1).strftime('%Y-%m')\n",
    "    ndvi = get_monthly_ndvi(year, month)\n",
    "    filename = os.path.join(output_dir, f\"ndvi_{date_str}.tif\")\n",
    "    geometry = ee.Geometry.Rectangle([bounds['min_lon'], bounds['min_lat'], bounds['max_lon'], bounds['max_lat']])\n",
    "    \n",
    "    geemap.ee_export_image(\n",
    "        ndvi,\n",
    "        filename=filename,\n",
    "        scale=500,\n",
    "        region=geometry.getInfo()['coordinates'],\n",
    "        crs='EPSG:4326',\n",
    "    )\n",
    "    \n",
    "    print(f\"Downloaded NDVI for {date_str}\")\n",
    "    \n",
    "def add_month(date_time):\n",
    "    if date_time.month == 12:\n",
    "        return date_time.replace(year=date_time.year + 1, month=1)\n",
    "    else:\n",
    "        return date_time.replace(month=date_time.month + 1)\n",
    "\n",
    "current_date = start_date\n",
    "while current_date <= end_date:\n",
    "    download_monthly_ndvi(current_date.year, current_date.month)\n",
    "    current_date = add_month(current_date)\n",
    "\n",
    "print(\"All NDVI images downloaded successfully.\")"
   ]
  },
  {
   "cell_type": "markdown",
   "id": "855a3403",
   "metadata": {},
   "source": [
    "### Resample NDVI at 0.25 degree"
   ]
  },
  {
   "cell_type": "code",
   "execution_count": 3,
   "id": "ca398e9d",
   "metadata": {},
   "outputs": [
    {
     "data": {
      "text/html": [
       "\n",
       "            <style>\n",
       "                .geemap-dark {\n",
       "                    --jp-widgets-color: white;\n",
       "                    --jp-widgets-label-color: white;\n",
       "                    --jp-ui-font-color1: white;\n",
       "                    --jp-layout-color2: #454545;\n",
       "                    background-color: #383838;\n",
       "                }\n",
       "\n",
       "                .geemap-dark .jupyter-button {\n",
       "                    --jp-layout-color3: #383838;\n",
       "                }\n",
       "\n",
       "                .geemap-colab {\n",
       "                    background-color: var(--colab-primary-surface-color, white);\n",
       "                }\n",
       "\n",
       "                .geemap-colab .jupyter-button {\n",
       "                    --jp-layout-color3: var(--colab-primary-surface-color, white);\n",
       "                }\n",
       "            </style>\n",
       "            "
      ],
      "text/plain": [
       "<IPython.core.display.HTML object>"
      ]
     },
     "metadata": {},
     "output_type": "display_data"
    },
    {
     "name": "stdout",
     "output_type": "stream",
     "text": [
      "All NDVI images resampled successfully.\n"
     ]
    }
   ],
   "source": [
    "import os\n",
    "import rasterio\n",
    "from rasterio.enums import Resampling\n",
    "from affine import Affine\n",
    "\n",
    "input_dir = r\"/home/stormej/dev/rainscale/data/ndvi/ndvi_monthly\"\n",
    "output_dir = r\"/home/stormej/dev/rainscale/data/ndvi/ndvi_monthly_resampled_0.25\"\n",
    "os.makedirs(output_dir, exist_ok=True)\n",
    "\n",
    "crs = 'EPSG:4326'\n",
    "shape = (3, 5)\n",
    "transform = Affine(0.25, 0, 76.5, 0, -0.25, 28.9)\n",
    "\n",
    "for file in os.listdir(input_dir):\n",
    "    if file.endswith('.tif'):\n",
    "        path = os.path.join(input_dir, file)\n",
    "        with rasterio.open(path) as src:\n",
    "            resample = src.read(\n",
    "                out_shape = (1, shape[0], shape[1]),\n",
    "                resampling= Resampling.average,\n",
    "            )\n",
    "        parts = file.split('_')\n",
    "        if len(parts) == 2:\n",
    "            month = parts[1].replace('.tif', '')\n",
    "        elif len(parts) == 3:\n",
    "            month = parts[1]\n",
    "        else:\n",
    "            month = \"unknown\"\n",
    "        \n",
    "        output_filename = f\"ndvi_resampled_{month}.tif\"\n",
    "        output_path = os.path.join(output_dir, output_filename)\n",
    "        \n",
    "        with rasterio.open(\n",
    "            output_path,\n",
    "            'w',\n",
    "            driver='GTiff',\n",
    "            height=shape[0],\n",
    "            width=shape[1],\n",
    "            count=1,\n",
    "            dtype=resample.dtype,\n",
    "            crs=crs,\n",
    "            transform=transform,\n",
    "        ) as dst:\n",
    "            dst.write(resample[0], 1)\n",
    "        \n",
    "print(\"All NDVI images resampled successfully.\")"
   ]
  },
  {
   "cell_type": "markdown",
   "id": "993fc4de",
   "metadata": {},
   "source": [
    "### Resample NDVI to 0.01 degree"
   ]
  },
  {
   "cell_type": "code",
   "execution_count": null,
   "id": "bc049f9d",
   "metadata": {},
   "outputs": [
    {
     "data": {
      "text/html": [
       "\n",
       "            <style>\n",
       "                .geemap-dark {\n",
       "                    --jp-widgets-color: white;\n",
       "                    --jp-widgets-label-color: white;\n",
       "                    --jp-ui-font-color1: white;\n",
       "                    --jp-layout-color2: #454545;\n",
       "                    background-color: #383838;\n",
       "                }\n",
       "\n",
       "                .geemap-dark .jupyter-button {\n",
       "                    --jp-layout-color3: #383838;\n",
       "                }\n",
       "\n",
       "                .geemap-colab {\n",
       "                    background-color: var(--colab-primary-surface-color, white);\n",
       "                }\n",
       "\n",
       "                .geemap-colab .jupyter-button {\n",
       "                    --jp-layout-color3: var(--colab-primary-surface-color, white);\n",
       "                }\n",
       "            </style>\n",
       "            "
      ],
      "text/plain": [
       "<IPython.core.display.HTML object>"
      ]
     },
     "metadata": {},
     "output_type": "display_data"
    },
    {
     "name": "stdout",
     "output_type": "stream",
     "text": [
      "All NDVI images resampled successfully.\n"
     ]
    }
   ],
   "source": [
    "import os\n",
    "import rasterio\n",
    "from rasterio.enums import Resampling\n",
    "from affine import Affine\n",
    "\n",
    "input_dir = r\"/home/stormej/dev/rainscale/data/ndvi/ndvi_monthly\"\n",
    "output_dir = r\"/home/stormej/dev/rainscale/data/ndvi/ndvi_monthly_resampled_0.01\"\n",
    "os.makedirs(output_dir, exist_ok=True)\n",
    "\n",
    "crs = 'EPSG:4326'\n",
    "width = int((bounds['max_lon'] - bounds['min_lon']) / 0.01)  # 100 pixels\n",
    "height = int((bounds['max_lat'] - bounds['min_lat']) / 0.01)  # 60 pixels\n",
    "shape = (height, width)\n",
    "transform = Affine(0.01, 0, bounds['min_lon'], 0, -0.01, bounds['max_lat'])\n",
    "\n",
    "for file in os.listdir(input_dir):\n",
    "    if file.endswith('.tif'):\n",
    "        path = os.path.join(input_dir, file)\n",
    "        with rasterio.open(path) as src:\n",
    "            resample = src.read(\n",
    "                out_shape = (1, shape[0], shape[1]),\n",
    "                resampling= Resampling.average,\n",
    "            )\n",
    "        parts = file.split('_')\n",
    "        if len(parts) == 2:\n",
    "            month = parts[1].replace('.tif', '')\n",
    "        elif len(parts) == 3:\n",
    "            month = parts[1]\n",
    "        else:\n",
    "            month = \"unknown\"\n",
    "        \n",
    "        output_filename = f\"ndvi_resampled_{month}.tif\"\n",
    "        output_path = os.path.join(output_dir, output_filename)\n",
    "        \n",
    "        with rasterio.open(\n",
    "            output_path,\n",
    "            'w',\n",
    "            driver='GTiff',\n",
    "            height=shape[0],\n",
    "            width=shape[1],\n",
    "            count=1,\n",
    "            dtype=resample.dtype,\n",
    "            crs=crs,\n",
    "            transform=transform,\n",
    "        ) as dst:\n",
    "            dst.write(resample[0], 1)\n",
    "        \n",
    "print(\"All NDVI images resampled successfully.\")"
   ]
  },
  {
   "cell_type": "markdown",
   "id": "2b3a7400",
   "metadata": {},
   "source": [
    "### Resample NDVI to 0.1 degree i.e 10 km"
   ]
  },
  {
   "cell_type": "code",
   "execution_count": 3,
   "id": "41c3a06a",
   "metadata": {},
   "outputs": [
    {
     "name": "stdout",
     "output_type": "stream",
     "text": [
      "All NDVI images resampled successfully.\n"
     ]
    }
   ],
   "source": [
    "import os\n",
    "import rasterio\n",
    "from rasterio.enums import Resampling\n",
    "from affine import Affine\n",
    "import ee\n",
    "\n",
    "ee.Initialize()\n",
    "\n",
    "bounds = {\n",
    "    'min_lon': 76.5,  # Western boundary of Delhi\n",
    "    'max_lon': 77.5,  # Eastern boundary of Delhi\n",
    "    'min_lat': 28.3,  # Southern boundary of Delhi\n",
    "    'max_lat': 28.9   # Northern boundary of Delhi\n",
    "}\n",
    "\n",
    "input_dir = r\"/home/stormej/dev/rainscale/data/ndvi/ndvi_monthly\"\n",
    "output_dir = r\"/home/stormej/dev/rainscale/data/ndvi/ndvi_monthly_resampled_0.1\"\n",
    "os.makedirs(output_dir, exist_ok=True)\n",
    "\n",
    "crs = 'EPSG:4326'\n",
    "width = int((bounds['max_lon'] - bounds['min_lon']) / 0.1)  # 10 pixels\n",
    "height = int((bounds['max_lat'] - bounds['min_lat']) / 0.1)  # 6 pixels\n",
    "shape = (height, width)\n",
    "transform = Affine(0.1, 0, bounds['min_lon'], 0, -0.1, bounds['max_lat'])\n",
    "\n",
    "for file in os.listdir(input_dir):\n",
    "    if file.endswith('.tif'):\n",
    "        path = os.path.join(input_dir, file)\n",
    "        with rasterio.open(path) as src:\n",
    "            resample = src.read(\n",
    "                out_shape = (1, shape[0], shape[1]),\n",
    "                resampling= Resampling.average,\n",
    "            )\n",
    "        parts = file.split('_')\n",
    "        if len(parts) == 2:\n",
    "            month = parts[1].replace('.tif', '')\n",
    "        elif len(parts) == 3:\n",
    "            month = parts[1]\n",
    "        else:\n",
    "            month = \"unknown\"\n",
    "        \n",
    "        output_filename = f\"ndvi_resampled_{month}.tif\"\n",
    "        output_path = os.path.join(output_dir, output_filename)\n",
    "        \n",
    "        with rasterio.open(\n",
    "            output_path,\n",
    "            'w',\n",
    "            driver='GTiff',\n",
    "            height=shape[0],\n",
    "            width=shape[1],\n",
    "            count=1,\n",
    "            dtype=resample.dtype,\n",
    "            crs=crs,\n",
    "            transform=transform,\n",
    "        ) as dst:\n",
    "            dst.write(resample[0], 1)\n",
    "        \n",
    "print(\"All NDVI images resampled successfully.\")"
   ]
  }
 ],
 "metadata": {
  "kernelspec": {
   "display_name": "env",
   "language": "python",
   "name": "python3"
  },
  "language_info": {
   "codemirror_mode": {
    "name": "ipython",
    "version": 3
   },
   "file_extension": ".py",
   "mimetype": "text/x-python",
   "name": "python",
   "nbconvert_exporter": "python",
   "pygments_lexer": "ipython3",
   "version": "3.13.3"
  }
 },
 "nbformat": 4,
 "nbformat_minor": 5
}
