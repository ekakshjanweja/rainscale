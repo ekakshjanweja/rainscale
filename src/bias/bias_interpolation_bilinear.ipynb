{
 "cells": [
  {
   "cell_type": "markdown",
   "id": "c49dae13",
   "metadata": {},
   "source": [
    "### Interpolate Bias Obtained at 0.25 Degree to 0.01 Degree Using Bilinear Interpolation"
   ]
  },
  {
   "cell_type": "code",
   "execution_count": 9,
   "id": "3b96190b",
   "metadata": {},
   "outputs": [
    {
     "name": "stderr",
     "output_type": "stream",
     "text": [
      "Interpolating SF: 100%|██████████| 275/275 [00:00<00:00, 529.03it/s]"
     ]
    },
    {
     "name": "stdout",
     "output_type": "stream",
     "text": [
      "Interpolated scaling factors saved to: /home/stormej/dev/rainscale/data/bias/bias_bilinear_0.01\n"
     ]
    },
    {
     "name": "stderr",
     "output_type": "stream",
     "text": [
      "\n"
     ]
    }
   ],
   "source": [
    "\n",
    "import os\n",
    "import numpy as np\n",
    "import rasterio\n",
    "from rasterio.warp import reproject, Resampling\n",
    "from tqdm import tqdm\n",
    "\n",
    "def interpolate_scaling_factors(input_sf_path, output_sf_path, target_transform, target_shape):\n",
    "    with rasterio.open(input_sf_path) as src:\n",
    "        sf_data = src.read(1)\n",
    "        src_meta = src.meta.copy()\n",
    "\n",
    "        dst_meta = src_meta.copy()\n",
    "        dst_meta.update({\n",
    "            'height': target_shape[0],\n",
    "            'width': target_shape[1],\n",
    "            'transform': target_transform,\n",
    "            'crs': 'EPSG:4326'\n",
    "        })\n",
    "\n",
    "        sf_interpolated = np.zeros(target_shape, dtype=np.float32)\n",
    "\n",
    "        reproject(\n",
    "            source=sf_data,\n",
    "            destination=sf_interpolated,\n",
    "            src_transform=src.transform,\n",
    "            src_crs=src.crs,\n",
    "            dst_transform=target_transform,\n",
    "            dst_crs='EPSG:4326',\n",
    "            resampling=Resampling.bilinear\n",
    "        )\n",
    "\n",
    "        with rasterio.open(output_sf_path, 'w', **dst_meta) as dst:\n",
    "            dst.write(sf_interpolated, 1)\n",
    "\n",
    "def batch_interpolate_sf(input_folder, output_folder):\n",
    "    os.makedirs(output_folder, exist_ok=True)\n",
    "\n",
    "    dst_bounds = (76.5, 28.31, 77.5, 28.9)\n",
    "\n",
    "    width = int((dst_bounds[2] - dst_bounds[0]) / 0.01)  # 0.01 degree per pixel\n",
    "    height = int((dst_bounds[3] - dst_bounds[1]) / 0.01)  # 0.01 degree per pixel\n",
    "    target_shape = (height, width)\n",
    "\n",
    "    target_transform = rasterio.transform.from_bounds(\n",
    "        dst_bounds[0], dst_bounds[1], dst_bounds[2], dst_bounds[3], \n",
    "        width, height\n",
    "    )\n",
    "\n",
    "    sf_files = [f for f in os.listdir(input_folder) if f.endswith('.tif')]\n",
    "\n",
    "    for sf_file in tqdm(sf_files, desc=\"Interpolating SF\"):\n",
    "        input_path = os.path.join(input_folder, sf_file)\n",
    "        output_path = os.path.join(output_folder, f\"interpolated_{sf_file}\")\n",
    "\n",
    "        interpolate_scaling_factors(\n",
    "            input_path,\n",
    "            output_path,\n",
    "            target_transform,\n",
    "            target_shape\n",
    "        )\n",
    "\n",
    "def main():\n",
    "    input_dir = r\"/home/stormej/dev/rainscale/data/bias/bias_0.25\"\n",
    "    output_dir = r\"/home/stormej/dev/rainscale/data/bias/bias_bilinear_0.01\"\n",
    "\n",
    "    batch_interpolate_sf(input_dir, output_dir)\n",
    "    print(f\"Interpolated scaling factors saved to: {output_dir}\")\n",
    "\n",
    "\n",
    "main()"
   ]
  },
  {
   "cell_type": "code",
   "execution_count": 8,
   "id": "099c2865",
   "metadata": {},
   "outputs": [
    {
     "name": "stderr",
     "output_type": "stream",
     "text": [
      "Interpolating SF: 100%|██████████| 275/275 [00:00<00:00, 654.35it/s]"
     ]
    },
    {
     "name": "stdout",
     "output_type": "stream",
     "text": [
      "Interpolated scaling factors saved to: /home/stormej/dev/rainscale/data/bias/bias_bilinear_0.1\n"
     ]
    },
    {
     "name": "stderr",
     "output_type": "stream",
     "text": [
      "\n"
     ]
    }
   ],
   "source": [
    "\n",
    "import os\n",
    "import numpy as np\n",
    "import rasterio\n",
    "from rasterio.warp import reproject, Resampling\n",
    "from tqdm import tqdm\n",
    "\n",
    "def interpolate_scaling_factors(input_sf_path, output_sf_path, target_transform, target_shape):\n",
    "    with rasterio.open(input_sf_path) as src:\n",
    "        sf_data = src.read(1)\n",
    "        src_meta = src.meta.copy()\n",
    "\n",
    "        dst_meta = src_meta.copy()\n",
    "        dst_meta.update({\n",
    "            'height': target_shape[0],\n",
    "            'width': target_shape[1],\n",
    "            'transform': target_transform,\n",
    "            'crs': 'EPSG:4326'\n",
    "        })\n",
    "\n",
    "        sf_interpolated = np.zeros(target_shape, dtype=np.float32)\n",
    "\n",
    "        reproject(\n",
    "            source=sf_data,\n",
    "            destination=sf_interpolated,\n",
    "            src_transform=src.transform,\n",
    "            src_crs=src.crs,\n",
    "            dst_transform=target_transform,\n",
    "            dst_crs='EPSG:4326',\n",
    "            resampling=Resampling.bilinear\n",
    "        )\n",
    "\n",
    "        with rasterio.open(output_sf_path, 'w', **dst_meta) as dst:\n",
    "            dst.write(sf_interpolated, 1)\n",
    "\n",
    "def batch_interpolate_sf(input_folder, output_folder):\n",
    "    os.makedirs(output_folder, exist_ok=True)\n",
    "\n",
    "    dst_bounds = (76.5, 28.31, 77.5, 28.9)\n",
    "\n",
    "    width = int((dst_bounds[2] - dst_bounds[0]) / 0.1)  # 0.01 degree per pixel\n",
    "    height = int((dst_bounds[3] - dst_bounds[1]) / 0.1)  # 0.01 degree per pixel\n",
    "    target_shape = (height, width)\n",
    "\n",
    "    target_transform = rasterio.transform.from_bounds(\n",
    "        dst_bounds[0], dst_bounds[1], dst_bounds[2], dst_bounds[3], \n",
    "        width, height\n",
    "    )\n",
    "\n",
    "    sf_files = [f for f in os.listdir(input_folder) if f.endswith('.tif')]\n",
    "\n",
    "    for sf_file in tqdm(sf_files, desc=\"Interpolating SF\"):\n",
    "        input_path = os.path.join(input_folder, sf_file)\n",
    "        output_path = os.path.join(output_folder, f\"{sf_file}\")\n",
    "\n",
    "        interpolate_scaling_factors(\n",
    "            input_path,\n",
    "            output_path,\n",
    "            target_transform,\n",
    "            target_shape\n",
    "        )\n",
    "\n",
    "def main():\n",
    "    input_dir = r\"/home/stormej/dev/rainscale/data/bias/bias_0.25\"\n",
    "    output_dir = r\"/home/stormej/dev/rainscale/data/bias/bias_bilinear_0.1\"\n",
    "\n",
    "    batch_interpolate_sf(input_dir, output_dir)\n",
    "    print(f\"Interpolated scaling factors saved to: {output_dir}\")\n",
    "\n",
    "\n",
    "main()"
   ]
  }
 ],
 "metadata": {
  "kernelspec": {
   "display_name": "env",
   "language": "python",
   "name": "python3"
  },
  "language_info": {
   "codemirror_mode": {
    "name": "ipython",
    "version": 3
   },
   "file_extension": ".py",
   "mimetype": "text/x-python",
   "name": "python",
   "nbconvert_exporter": "python",
   "pygments_lexer": "ipython3",
   "version": "3.13.3"
  }
 },
 "nbformat": 4,
 "nbformat_minor": 5
}
